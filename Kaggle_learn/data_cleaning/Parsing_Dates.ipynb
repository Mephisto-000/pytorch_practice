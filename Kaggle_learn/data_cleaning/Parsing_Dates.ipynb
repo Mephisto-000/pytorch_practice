{
 "cells": [
  {
   "cell_type": "markdown",
   "id": "23b2c005-aff5-4bd5-83f7-2367c11f2fa2",
   "metadata": {},
   "source": [
    "# Parsing Dates"
   ]
  },
  {
   "cell_type": "markdown",
   "id": "ddbb047a-1ddc-42cf-bbc1-2ff302a27ed8",
   "metadata": {},
   "source": [
    "## 0. Modules"
   ]
  },
  {
   "cell_type": "markdown",
   "id": "6e9c7868-866f-4b73-a1e1-5614cbe49f25",
   "metadata": {},
   "source": [
    "我們將使用一個包含 2007 年至 2016 年間發生的山崩資訊的資料集。  \n",
    "在接下來的練習中，你將把你新學的技能應用到一個全球地震的資料集上。"
   ]
  },
  {
   "cell_type": "code",
   "execution_count": 1,
   "id": "528c9fdc-b3cf-44da-8948-9ae4ff6a8cd3",
   "metadata": {
    "tags": []
   },
   "outputs": [],
   "source": [
    "import numpy as np\n",
    "import pandas as pd\n",
    "import seaborn as sns\n",
    "import datetime\n",
    "\n",
    "# read in our data\n",
    "landslides = pd.read_csv(\"catalog.csv\")\n",
    "\n",
    "# set seed for reproducibility\n",
    "np.random.seed(0)"
   ]
  },
  {
   "cell_type": "markdown",
   "id": "aeb9d7a5-f825-4928-97ba-8a1065f1aaae",
   "metadata": {},
   "source": [
    "## 1. Check the data type of our date column"
   ]
  },
  {
   "cell_type": "markdown",
   "id": "71b8ff3b-fbb8-49bd-a8e7-cfa391d9d5b7",
   "metadata": {},
   "source": [
    "我們首先查看數據的前五行。"
   ]
  },
  {
   "cell_type": "code",
   "execution_count": 2,
   "id": "a526e259-91da-46d6-9349-d681cd27628a",
   "metadata": {
    "tags": []
   },
   "outputs": [
    {
     "data": {
      "text/html": [
       "<div>\n",
       "<style scoped>\n",
       "    .dataframe tbody tr th:only-of-type {\n",
       "        vertical-align: middle;\n",
       "    }\n",
       "\n",
       "    .dataframe tbody tr th {\n",
       "        vertical-align: top;\n",
       "    }\n",
       "\n",
       "    .dataframe thead th {\n",
       "        text-align: right;\n",
       "    }\n",
       "</style>\n",
       "<table border=\"1\" class=\"dataframe\">\n",
       "  <thead>\n",
       "    <tr style=\"text-align: right;\">\n",
       "      <th></th>\n",
       "      <th>id</th>\n",
       "      <th>date</th>\n",
       "      <th>time</th>\n",
       "      <th>continent_code</th>\n",
       "      <th>country_name</th>\n",
       "      <th>country_code</th>\n",
       "      <th>state/province</th>\n",
       "      <th>population</th>\n",
       "      <th>city/town</th>\n",
       "      <th>distance</th>\n",
       "      <th>...</th>\n",
       "      <th>geolocation</th>\n",
       "      <th>hazard_type</th>\n",
       "      <th>landslide_type</th>\n",
       "      <th>landslide_size</th>\n",
       "      <th>trigger</th>\n",
       "      <th>storm_name</th>\n",
       "      <th>injuries</th>\n",
       "      <th>fatalities</th>\n",
       "      <th>source_name</th>\n",
       "      <th>source_link</th>\n",
       "    </tr>\n",
       "  </thead>\n",
       "  <tbody>\n",
       "    <tr>\n",
       "      <th>0</th>\n",
       "      <td>34</td>\n",
       "      <td>3/2/07</td>\n",
       "      <td>Night</td>\n",
       "      <td>NaN</td>\n",
       "      <td>United States</td>\n",
       "      <td>US</td>\n",
       "      <td>Virginia</td>\n",
       "      <td>16000</td>\n",
       "      <td>Cherry Hill</td>\n",
       "      <td>3.40765</td>\n",
       "      <td>...</td>\n",
       "      <td>(38.600900000000003, -77.268199999999993)</td>\n",
       "      <td>Landslide</td>\n",
       "      <td>Landslide</td>\n",
       "      <td>Small</td>\n",
       "      <td>Rain</td>\n",
       "      <td>NaN</td>\n",
       "      <td>NaN</td>\n",
       "      <td>NaN</td>\n",
       "      <td>NBC 4 news</td>\n",
       "      <td>http://www.nbc4.com/news/11186871/detail.html</td>\n",
       "    </tr>\n",
       "    <tr>\n",
       "      <th>1</th>\n",
       "      <td>42</td>\n",
       "      <td>3/22/07</td>\n",
       "      <td>NaN</td>\n",
       "      <td>NaN</td>\n",
       "      <td>United States</td>\n",
       "      <td>US</td>\n",
       "      <td>Ohio</td>\n",
       "      <td>17288</td>\n",
       "      <td>New Philadelphia</td>\n",
       "      <td>3.33522</td>\n",
       "      <td>...</td>\n",
       "      <td>(40.517499999999998, -81.430499999999995)</td>\n",
       "      <td>Landslide</td>\n",
       "      <td>Landslide</td>\n",
       "      <td>Small</td>\n",
       "      <td>Rain</td>\n",
       "      <td>NaN</td>\n",
       "      <td>NaN</td>\n",
       "      <td>NaN</td>\n",
       "      <td>Canton Rep.com</td>\n",
       "      <td>http://www.cantonrep.com/index.php?ID=345054&amp;C...</td>\n",
       "    </tr>\n",
       "    <tr>\n",
       "      <th>2</th>\n",
       "      <td>56</td>\n",
       "      <td>4/6/07</td>\n",
       "      <td>NaN</td>\n",
       "      <td>NaN</td>\n",
       "      <td>United States</td>\n",
       "      <td>US</td>\n",
       "      <td>Pennsylvania</td>\n",
       "      <td>15930</td>\n",
       "      <td>Wilkinsburg</td>\n",
       "      <td>2.91977</td>\n",
       "      <td>...</td>\n",
       "      <td>(40.4377, -79.915999999999997)</td>\n",
       "      <td>Landslide</td>\n",
       "      <td>Landslide</td>\n",
       "      <td>Small</td>\n",
       "      <td>Rain</td>\n",
       "      <td>NaN</td>\n",
       "      <td>NaN</td>\n",
       "      <td>NaN</td>\n",
       "      <td>The Pittsburgh Channel.com</td>\n",
       "      <td>https://web.archive.org/web/20080423132842/htt...</td>\n",
       "    </tr>\n",
       "    <tr>\n",
       "      <th>3</th>\n",
       "      <td>59</td>\n",
       "      <td>4/14/07</td>\n",
       "      <td>NaN</td>\n",
       "      <td>NaN</td>\n",
       "      <td>Canada</td>\n",
       "      <td>CA</td>\n",
       "      <td>Quebec</td>\n",
       "      <td>42786</td>\n",
       "      <td>Châteauguay</td>\n",
       "      <td>2.98682</td>\n",
       "      <td>...</td>\n",
       "      <td>(45.322600000000001, -73.777100000000004)</td>\n",
       "      <td>Landslide</td>\n",
       "      <td>Riverbank collapse</td>\n",
       "      <td>Small</td>\n",
       "      <td>Rain</td>\n",
       "      <td>NaN</td>\n",
       "      <td>NaN</td>\n",
       "      <td>NaN</td>\n",
       "      <td>Le Soleil</td>\n",
       "      <td>http://www.hebdos.net/lsc/edition162007/articl...</td>\n",
       "    </tr>\n",
       "    <tr>\n",
       "      <th>4</th>\n",
       "      <td>61</td>\n",
       "      <td>4/15/07</td>\n",
       "      <td>NaN</td>\n",
       "      <td>NaN</td>\n",
       "      <td>United States</td>\n",
       "      <td>US</td>\n",
       "      <td>Kentucky</td>\n",
       "      <td>6903</td>\n",
       "      <td>Pikeville</td>\n",
       "      <td>5.66542</td>\n",
       "      <td>...</td>\n",
       "      <td>(37.432499999999997, -82.493099999999998)</td>\n",
       "      <td>Landslide</td>\n",
       "      <td>Landslide</td>\n",
       "      <td>Small</td>\n",
       "      <td>Downpour</td>\n",
       "      <td>NaN</td>\n",
       "      <td>NaN</td>\n",
       "      <td>0.0</td>\n",
       "      <td>Matthew Crawford (KGS)</td>\n",
       "      <td>NaN</td>\n",
       "    </tr>\n",
       "  </tbody>\n",
       "</table>\n",
       "<p>5 rows × 23 columns</p>\n",
       "</div>"
      ],
      "text/plain": [
       "   id     date   time continent_code   country_name country_code  \\\n",
       "0  34   3/2/07  Night            NaN  United States           US   \n",
       "1  42  3/22/07    NaN            NaN  United States           US   \n",
       "2  56   4/6/07    NaN            NaN  United States           US   \n",
       "3  59  4/14/07    NaN            NaN         Canada           CA   \n",
       "4  61  4/15/07    NaN            NaN  United States           US   \n",
       "\n",
       "  state/province  population         city/town  distance  ...  \\\n",
       "0       Virginia       16000       Cherry Hill   3.40765  ...   \n",
       "1           Ohio       17288  New Philadelphia   3.33522  ...   \n",
       "2   Pennsylvania       15930       Wilkinsburg   2.91977  ...   \n",
       "3         Quebec       42786       Châteauguay   2.98682  ...   \n",
       "4       Kentucky        6903         Pikeville   5.66542  ...   \n",
       "\n",
       "                                 geolocation  hazard_type      landslide_type  \\\n",
       "0  (38.600900000000003, -77.268199999999993)    Landslide           Landslide   \n",
       "1  (40.517499999999998, -81.430499999999995)    Landslide           Landslide   \n",
       "2             (40.4377, -79.915999999999997)    Landslide           Landslide   \n",
       "3  (45.322600000000001, -73.777100000000004)    Landslide  Riverbank collapse   \n",
       "4  (37.432499999999997, -82.493099999999998)    Landslide           Landslide   \n",
       "\n",
       "  landslide_size   trigger storm_name injuries fatalities  \\\n",
       "0          Small      Rain        NaN      NaN        NaN   \n",
       "1          Small      Rain        NaN      NaN        NaN   \n",
       "2          Small      Rain        NaN      NaN        NaN   \n",
       "3          Small      Rain        NaN      NaN        NaN   \n",
       "4          Small  Downpour        NaN      NaN        0.0   \n",
       "\n",
       "                  source_name  \\\n",
       "0                  NBC 4 news   \n",
       "1              Canton Rep.com   \n",
       "2  The Pittsburgh Channel.com   \n",
       "3                   Le Soleil   \n",
       "4      Matthew Crawford (KGS)   \n",
       "\n",
       "                                         source_link  \n",
       "0      http://www.nbc4.com/news/11186871/detail.html  \n",
       "1  http://www.cantonrep.com/index.php?ID=345054&C...  \n",
       "2  https://web.archive.org/web/20080423132842/htt...  \n",
       "3  http://www.hebdos.net/lsc/edition162007/articl...  \n",
       "4                                                NaN  \n",
       "\n",
       "[5 rows x 23 columns]"
      ]
     },
     "execution_count": 2,
     "metadata": {},
     "output_type": "execute_result"
    }
   ],
   "source": [
    "landslides.head()"
   ]
  },
  {
   "cell_type": "markdown",
   "id": "1703b00f-dbb6-4f02-b5fe-4b9d38040745",
   "metadata": {},
   "source": [
    "我們將使用山崩資料框中的「日期」欄位。  \n",
    "讓我們確保它看起來真的包含了日期。"
   ]
  },
  {
   "cell_type": "code",
   "execution_count": 3,
   "id": "53aa2c8a-d678-400b-bfa4-49d9cea7584f",
   "metadata": {
    "tags": []
   },
   "outputs": [
    {
     "name": "stdout",
     "output_type": "stream",
     "text": [
      "0     3/2/07\n",
      "1    3/22/07\n",
      "2     4/6/07\n",
      "3    4/14/07\n",
      "4    4/15/07\n",
      "Name: date, dtype: object\n"
     ]
    }
   ],
   "source": [
    "# print the first few rows of the date column\n",
    "print(landslides['date'].head())"
   ]
  },
  {
   "cell_type": "markdown",
   "id": "ddcae34c-4fa0-4324-83c0-1334884b8f30",
   "metadata": {},
   "source": [
    "沒錯，這些是日期！但僅僅因為人能夠認出這些是日期，並不意味著 Python 知道它們是日期。  \n",
    "注意，在 `head()` 輸出的底部，你可以看到它顯示這一欄位的數據類型是「物件」。"
   ]
  },
  {
   "cell_type": "markdown",
   "id": "746c0040-2bf3-4fe7-8284-65c9efd0ee0c",
   "metadata": {},
   "source": [
    "**Pandas 使用「物件」資料類型來儲存各種類型的資料，  \n",
    "但當你看到一個欄位的資料類型是「物件」時，通常意味著其中包含了字串。**"
   ]
  },
  {
   "cell_type": "markdown",
   "id": "47250ccd-fb35-40fc-acc1-7b62a5a52ec7",
   "metadata": {},
   "source": [
    "如果你查看這裡的 pandas 資料類型文件，你會注意到還有一個特定的 `datetime64` 資料類型。  \n",
    "因為我們欄位的資料類型是物件，而不是 `datetime64`，我們可以知道 Python 並不知道這個欄位包含的是日期。"
   ]
  },
  {
   "cell_type": "markdown",
   "id": "762127a4-351e-4b42-bd74-35fdd27188b0",
   "metadata": {},
   "source": [
    "我們也可以不列印前幾行，只查看某個欄位的資料類型："
   ]
  },
  {
   "cell_type": "code",
   "execution_count": 4,
   "id": "76d19b02-03ec-42ca-a94e-c89f333cc5f8",
   "metadata": {
    "tags": []
   },
   "outputs": [
    {
     "data": {
      "text/plain": [
       "dtype('O')"
      ]
     },
     "execution_count": 4,
     "metadata": {},
     "output_type": "execute_result"
    }
   ],
   "source": [
    "# check the data type of our date column\n",
    "landslides['date'].dtype"
   ]
  },
  {
   "cell_type": "markdown",
   "id": "ac151c24-5c7a-4acd-87c3-9e561ed6ee71",
   "metadata": {},
   "source": [
    "你可能需要查閱 [numpy 的文件](https://docs.scipy.org/doc/numpy-1.12.0/reference/generated/numpy.dtype.kind.html#numpy.dtype.kind)來匹配字母代碼與物件的資料類型。  \n",
    "\"O\" 是「物件」的代碼，所以我們可以看到這兩種方法給我們提供了相同的資訊。"
   ]
  },
  {
   "cell_type": "markdown",
   "id": "2bfa0e12-ead4-4165-92f5-36016128bb89",
   "metadata": {},
   "source": [
    "## 2. Convert our date columns to datetime"
   ]
  },
  {
   "cell_type": "markdown",
   "id": "879aacdc-be1e-4988-ab03-084ed129dc4f",
   "metadata": {},
   "source": [
    "現在我們知道我們的日期欄位並沒有被識別為日期，是時候將其轉換成為被識別為日期的格式了。  \n",
    "這被稱為「解析日期」(parsing dates)，因為我們接收一個字串並識別其組成部分。"
   ]
  },
  {
   "cell_type": "markdown",
   "id": "99d8c100-201c-4864-ad0c-0bb612c3f4df",
   "metadata": {},
   "source": [
    "我們可以使用稱為**「strftime指令」**來確定我們日期的格式，你可以在這個[連結](https://strftime.org/)找到更多資訊。  \n",
    "基本概念是你需要指出日期的哪些部分位於哪裡以及它們之間的標點是什麼。  \n",
    "日期可能包括許多部分，但最常見的包括 %d 表示日，%m 表示月，%y 表示兩位數的年份，而 %Y 則表示四位數的年份。"
   ]
  },
  {
   "cell_type": "markdown",
   "id": "7e8b1f04-b79f-4eb4-b1e9-bdda5c947908",
   "metadata": {},
   "source": [
    "Some examples:  \n",
    "\n",
    "- 1/17/07 has the format \"%m/%d/%y\"\n",
    "- 17-1-2007 has the format \"%d-%m-%Y\""
   ]
  },
  {
   "cell_type": "markdown",
   "id": "e4706c1b-618a-4b86-ae66-fa7458d7b61a",
   "metadata": {},
   "source": [
    "回顧山崩資料集中「日期」欄位的頭幾行，我們可以看到其格式為「月/日/兩位數年份」，  \n",
    "因此我們可以使用與第一個例子相同的語法來解析我們的日期："
   ]
  },
  {
   "cell_type": "code",
   "execution_count": 5,
   "id": "1eb5698d-655e-4f1a-82dd-03b950419931",
   "metadata": {
    "tags": []
   },
   "outputs": [],
   "source": [
    "# create a new column, date_parsed, with the parsed dates\n",
    "landslides['date_parsed'] = pd.to_datetime(landslides['date'], format=\"%m/%d/%y\")"
   ]
  },
  {
   "cell_type": "markdown",
   "id": "a11741e5-5a6c-4804-bf08-68387c639059",
   "metadata": {},
   "source": [
    "現在當我檢查新欄位的前幾行時，我可以看到資料類型是 `datetime64`。  \n",
    "我還可以看到我的日期已經稍微重新排列，以便它們符合 datetime 物件的預設順序（年-月-日）。"
   ]
  },
  {
   "cell_type": "code",
   "execution_count": 6,
   "id": "be6a8d07-c3de-411a-9850-fce60a3fce66",
   "metadata": {
    "tags": []
   },
   "outputs": [
    {
     "data": {
      "text/plain": [
       "0   2007-03-02\n",
       "1   2007-03-22\n",
       "2   2007-04-06\n",
       "3   2007-04-14\n",
       "4   2007-04-15\n",
       "Name: date_parsed, dtype: datetime64[ns]"
      ]
     },
     "execution_count": 6,
     "metadata": {},
     "output_type": "execute_result"
    }
   ],
   "source": [
    "# print the first few rows\n",
    "landslides['date_parsed'].head()"
   ]
  },
  {
   "cell_type": "markdown",
   "id": "c8b8364c-d11f-4dbf-8419-d990a5774027",
   "metadata": {},
   "source": [
    "現在我們的日期已經正確解析，我們可以以有用的方式與它們互動。"
   ]
  },
  {
   "cell_type": "markdown",
   "id": "03e71cdb-a6a4-4695-8ddb-bfe1e44ba911",
   "metadata": {},
   "source": [
    "---\n",
    "- **如果我遇到多種日期格式的錯誤怎麼辦？**  \n",
    "雖然我們在這裡指定了日期格式，但有時你會遇到一個欄位中有多種日期格式的錯誤。  \n",
    "如果發生這種情況，你可以讓 pandas 嘗試推斷正確的日期格式應該是什麼。你可以這樣做："
   ]
  },
  {
   "cell_type": "markdown",
   "id": "8f916ae9-06cd-4020-a5e5-4045033d2d09",
   "metadata": {},
   "source": [
    "`landslides['date_parsed'] = pd.to_datetime(landslides['Date'], infer_datetime_format=True)`"
   ]
  },
  {
   "cell_type": "markdown",
   "id": "889622a1-a965-4f51-b37e-de85861223e0",
   "metadata": {},
   "source": [
    "- **為什麼不總是使用 `infer_datetime_format = True`？**  \n",
    "有兩個主要原因不要總是讓 pandas 猜測時間格式。  \n",
    "第一個原因是 pandas 並不總是能夠確定正確的日期格式，尤其是當有人在數據輸入時變得創造性時。  \n",
    "第二個原因是它比指定日期的確切格式要慢得多。"
   ]
  },
  {
   "cell_type": "markdown",
   "id": "214a06a7-05cb-4f66-9f11-4cfab56b1ca9",
   "metadata": {},
   "source": [
    "## 3. Select the day of the month"
   ]
  },
  {
   "cell_type": "markdown",
   "id": "2b398c7a-f057-4c00-a0d7-fa8274c1cb2e",
   "metadata": {},
   "source": [
    "現在我們有了一個解析過的日期欄位，我們可以提取像是山崩發生的月份中的哪一天等資訊。"
   ]
  },
  {
   "cell_type": "code",
   "execution_count": 7,
   "id": "69c4b3d0-eb63-4ac5-a773-b8f89508abe5",
   "metadata": {
    "tags": []
   },
   "outputs": [
    {
     "data": {
      "text/plain": [
       "0     2.0\n",
       "1    22.0\n",
       "2     6.0\n",
       "3    14.0\n",
       "4    15.0\n",
       "Name: date_parsed, dtype: float64"
      ]
     },
     "execution_count": 7,
     "metadata": {},
     "output_type": "execute_result"
    }
   ],
   "source": [
    "# get the day of the month from the date_parsed column\n",
    "day_of_month_landslides = landslides['date_parsed'].dt.day\n",
    "day_of_month_landslides.head()"
   ]
  },
  {
   "cell_type": "markdown",
   "id": "c9b571de-300d-4ed9-acff-8f9c066429d6",
   "metadata": {},
   "source": [
    "如果我們嘗試從原始的「日期」欄位獲取相同的資訊，  \n",
    "我們會遇到一個錯誤：`AttributeError: Can only use .dt accessor with datetimelike values.`  \n",
    "這是因為 `dt.day` 不知道如何處理資料類型為「物件」的欄位。  \n",
    "即使我們的資料框中包含日期，我們也必須先解析它們，然後才能以有用的方式與它們互動。"
   ]
  },
  {
   "cell_type": "markdown",
   "id": "50fec240-64fc-4982-9008-99e2473fc34a",
   "metadata": {},
   "source": [
    "## 4. Plot the day of the month to check the date parsing"
   ]
  },
  {
   "cell_type": "markdown",
   "id": "844427f5-6ad4-41f9-aed7-d516d029c3f9",
   "metadata": {},
   "source": [
    "解析日期時最大的危險之一是將月份和日期混淆。`to_datetime()` 函數確實有非常有幫助的錯誤訊息，  \n",
    "但仔細檢查我們提取的月份中的日期是否合理並無妨。"
   ]
  },
  {
   "cell_type": "markdown",
   "id": "9d4f3038-5ea4-4ec4-9204-0fca47facfc1",
   "metadata": {},
   "source": [
    "為了做到這一點，讓我們繪製一個月份中日期的直方圖。  \n",
    "我們預期它的值在1到31之間，並且由於沒有理由假設山崩在月份的某些日子比其他日子更常見，  \n",
    "所以分佈應該相對均勻。（由於不是所有月份都有31天，所以31日會有所下降。）  \n",
    "讓我們看看是否如此："
   ]
  },
  {
   "cell_type": "code",
   "execution_count": 8,
   "id": "87688873-8acf-4fd4-bbbe-98a12dd81dd2",
   "metadata": {
    "tags": []
   },
   "outputs": [
    {
     "data": {
      "text/plain": [
       "<seaborn.axisgrid.FacetGrid at 0x1d756bd0be0>"
      ]
     },
     "execution_count": 8,
     "metadata": {},
     "output_type": "execute_result"
    },
    {
     "data": {
      "image/png": "[encoded data removed]",
      "text/plain": [
       "<Figure size 500x500 with 1 Axes>"
      ]
     },
     "metadata": {},
     "output_type": "display_data"
    }
   ],
   "source": [
    "# remove na's\n",
    "day_of_month_landslides = day_of_month_landslides.dropna()\n",
    "\n",
    "# Ignore Warnings \n",
    "import warnings\n",
    "warnings.filterwarnings(\"ignore\", category=FutureWarning)\n",
    "\n",
    "# plot the day of the month\n",
    "sns.displot(day_of_month_landslides, kind=\"hist\", kde=False, bins=31)"
   ]
  },
  {
   "cell_type": "code",
   "execution_count": null,
   "id": "a8859e50-b9b4-4630-989a-55d5d4c2481b",
   "metadata": {},
   "outputs": [],
   "source": []
  }
 ],
 "metadata": {
  "kernelspec": {
   "display_name": "Python 3 (ipykernel)",
   "language": "python",
   "name": "python3"
  },
  "language_info": {
   "codemirror_mode": {
    "name": "ipython",
    "version": 3
   },
   "file_extension": ".py",
   "mimetype": "text/x-python",
   "name": "python",
   "nbconvert_exporter": "python",
   "pygments_lexer": "ipython3",
   "version": "3.10.13"
  }
 },
 "nbformat": 4,
 "nbformat_minor": 5
}
