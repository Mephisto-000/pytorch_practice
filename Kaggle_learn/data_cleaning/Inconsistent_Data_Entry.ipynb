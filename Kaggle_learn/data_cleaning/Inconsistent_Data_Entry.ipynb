{
 "cells": [
  {
   "cell_type": "markdown",
   "id": "caf08a69-d282-4763-bb96-5309ba97e0b9",
   "metadata": {},
   "source": [
    "# Inconsistent Data Entry"
   ]
  },
  {
   "cell_type": "markdown",
   "id": "660c2870-6115-4deb-a1cc-72e997e88c8e",
   "metadata": {},
   "source": [
    "## 0. Modules"
   ]
  },
  {
   "cell_type": "code",
   "execution_count": 1,
   "id": "d61bee5a-1b44-43a4-a4c7-2390453d76e4",
   "metadata": {
    "tags": []
   },
   "outputs": [],
   "source": [
    "import numpy as np\n",
    "import pandas as pd\n",
    "\n",
    "# helpful modules\n",
    "import fuzzywuzzy\n",
    "from fuzzywuzzy import process\n",
    "import charset_normalizer\n",
    "\n",
    "# read in all our data\n",
    "professors = pd.read_csv(\"pakistan_intellectual_capital.csv\")\n",
    "\n",
    "# set seed for reproducibility\n",
    "np.random.seed(0)"
   ]
  },
  {
   "cell_type": "markdown",
   "id": "2b488960-6547-4799-9123-31b371c4ad2a",
   "metadata": {},
   "source": [
    "## 1. Do some preliminary text pre-processing"
   ]
  },
  {
   "cell_type": "markdown",
   "id": "8d266a2f-c3b2-4423-9b54-3d8fdec70609",
   "metadata": {},
   "source": [
    "首先我們快速查看數據的前幾行。"
   ]
  },
  {
   "cell_type": "code",
   "execution_count": 2,
   "id": "f6825c04-ad9a-47d0-aacc-0127cd954528",
   "metadata": {
    "tags": []
   },
   "outputs": [
    {
     "data": {
      "text/html": [
       "<div>\n",
       "<style scoped>\n",
       "    .dataframe tbody tr th:only-of-type {\n",
       "        vertical-align: middle;\n",
       "    }\n",
       "\n",
       "    .dataframe tbody tr th {\n",
       "        vertical-align: top;\n",
       "    }\n",
       "\n",
       "    .dataframe thead th {\n",
       "        text-align: right;\n",
       "    }\n",
       "</style>\n",
       "<table border=\"1\" class=\"dataframe\">\n",
       "  <thead>\n",
       "    <tr style=\"text-align: right;\">\n",
       "      <th></th>\n",
       "      <th>Unnamed: 0</th>\n",
       "      <th>S#</th>\n",
       "      <th>Teacher Name</th>\n",
       "      <th>University Currently Teaching</th>\n",
       "      <th>Department</th>\n",
       "      <th>Province University Located</th>\n",
       "      <th>Designation</th>\n",
       "      <th>Terminal Degree</th>\n",
       "      <th>Graduated from</th>\n",
       "      <th>Country</th>\n",
       "      <th>Year</th>\n",
       "      <th>Area of Specialization/Research Interests</th>\n",
       "      <th>Other Information</th>\n",
       "    </tr>\n",
       "  </thead>\n",
       "  <tbody>\n",
       "    <tr>\n",
       "      <th>0</th>\n",
       "      <td>2</td>\n",
       "      <td>3</td>\n",
       "      <td>Dr. Abdul Basit</td>\n",
       "      <td>University of Balochistan</td>\n",
       "      <td>Computer Science &amp; IT</td>\n",
       "      <td>Balochistan</td>\n",
       "      <td>Assistant Professor</td>\n",
       "      <td>PhD</td>\n",
       "      <td>Asian Institute of Technology</td>\n",
       "      <td>Thailand</td>\n",
       "      <td>NaN</td>\n",
       "      <td>Software Engineering &amp; DBMS</td>\n",
       "      <td>NaN</td>\n",
       "    </tr>\n",
       "    <tr>\n",
       "      <th>1</th>\n",
       "      <td>4</td>\n",
       "      <td>5</td>\n",
       "      <td>Dr. Waheed Noor</td>\n",
       "      <td>University of Balochistan</td>\n",
       "      <td>Computer Science &amp; IT</td>\n",
       "      <td>Balochistan</td>\n",
       "      <td>Assistant Professor</td>\n",
       "      <td>PhD</td>\n",
       "      <td>Asian Institute of Technology</td>\n",
       "      <td>Thailand</td>\n",
       "      <td>NaN</td>\n",
       "      <td>DBMS</td>\n",
       "      <td>NaN</td>\n",
       "    </tr>\n",
       "    <tr>\n",
       "      <th>2</th>\n",
       "      <td>5</td>\n",
       "      <td>6</td>\n",
       "      <td>Dr. Junaid Baber</td>\n",
       "      <td>University of Balochistan</td>\n",
       "      <td>Computer Science &amp; IT</td>\n",
       "      <td>Balochistan</td>\n",
       "      <td>Assistant Professor</td>\n",
       "      <td>PhD</td>\n",
       "      <td>Asian Institute of Technology</td>\n",
       "      <td>Thailand</td>\n",
       "      <td>NaN</td>\n",
       "      <td>Information processing, Multimedia mining</td>\n",
       "      <td>NaN</td>\n",
       "    </tr>\n",
       "    <tr>\n",
       "      <th>3</th>\n",
       "      <td>6</td>\n",
       "      <td>7</td>\n",
       "      <td>Dr. Maheen Bakhtyar</td>\n",
       "      <td>University of Balochistan</td>\n",
       "      <td>Computer Science &amp; IT</td>\n",
       "      <td>Balochistan</td>\n",
       "      <td>Assistant Professor</td>\n",
       "      <td>PhD</td>\n",
       "      <td>Asian Institute of Technology</td>\n",
       "      <td>Thailand</td>\n",
       "      <td>NaN</td>\n",
       "      <td>NLP, Information Retrieval, Question Answering...</td>\n",
       "      <td>NaN</td>\n",
       "    </tr>\n",
       "    <tr>\n",
       "      <th>4</th>\n",
       "      <td>24</td>\n",
       "      <td>25</td>\n",
       "      <td>Samina Azim</td>\n",
       "      <td>Sardar Bahadur Khan Women's University</td>\n",
       "      <td>Computer Science</td>\n",
       "      <td>Balochistan</td>\n",
       "      <td>Lecturer</td>\n",
       "      <td>BS</td>\n",
       "      <td>Balochistan University of Information Technolo...</td>\n",
       "      <td>Pakistan</td>\n",
       "      <td>2005.0</td>\n",
       "      <td>VLSI Electronics DLD Database</td>\n",
       "      <td>NaN</td>\n",
       "    </tr>\n",
       "  </tbody>\n",
       "</table>\n",
       "</div>"
      ],
      "text/plain": [
       "   Unnamed: 0  S#         Teacher Name  \\\n",
       "0           2   3      Dr. Abdul Basit   \n",
       "1           4   5      Dr. Waheed Noor   \n",
       "2           5   6     Dr. Junaid Baber   \n",
       "3           6   7  Dr. Maheen Bakhtyar   \n",
       "4          24  25          Samina Azim   \n",
       "\n",
       "            University Currently Teaching             Department  \\\n",
       "0               University of Balochistan  Computer Science & IT   \n",
       "1               University of Balochistan  Computer Science & IT   \n",
       "2               University of Balochistan  Computer Science & IT   \n",
       "3               University of Balochistan  Computer Science & IT   \n",
       "4  Sardar Bahadur Khan Women's University       Computer Science   \n",
       "\n",
       "  Province University Located          Designation Terminal Degree  \\\n",
       "0                 Balochistan  Assistant Professor             PhD   \n",
       "1                 Balochistan  Assistant Professor             PhD   \n",
       "2                 Balochistan  Assistant Professor             PhD   \n",
       "3                 Balochistan  Assistant Professor             PhD   \n",
       "4                 Balochistan             Lecturer              BS   \n",
       "\n",
       "                                      Graduated from   Country    Year  \\\n",
       "0                      Asian Institute of Technology  Thailand     NaN   \n",
       "1                      Asian Institute of Technology  Thailand     NaN   \n",
       "2                      Asian Institute of Technology  Thailand     NaN   \n",
       "3                      Asian Institute of Technology  Thailand     NaN   \n",
       "4  Balochistan University of Information Technolo...  Pakistan  2005.0   \n",
       "\n",
       "           Area of Specialization/Research Interests Other Information  \n",
       "0                        Software Engineering & DBMS               NaN  \n",
       "1                                               DBMS               NaN  \n",
       "2          Information processing, Multimedia mining               NaN  \n",
       "3  NLP, Information Retrieval, Question Answering...               NaN  \n",
       "4                      VLSI Electronics DLD Database               NaN  "
      ]
     },
     "execution_count": 2,
     "metadata": {},
     "output_type": "execute_result"
    }
   ],
   "source": [
    "professors.head()"
   ]
  },
  {
   "cell_type": "markdown",
   "id": "f9dad0ae-7937-4d9a-97eb-95317c5c2d82",
   "metadata": {},
   "source": [
    "假設我們有興趣清理「國家」欄位，以確保其中沒有資料輸入的不一致。  \n",
    "當然，我們可以逐行檢查，並在發現不一致時手動更正。  \n",
    "不過，有一種更有效的方法可以做到這一點。"
   ]
  },
  {
   "cell_type": "code",
   "execution_count": 3,
   "id": "1f157f39-0146-4c84-8aec-c68e633343b9",
   "metadata": {
    "tags": []
   },
   "outputs": [
    {
     "data": {
      "text/plain": [
       "array([' Germany', ' New Zealand', ' Sweden', ' USA', 'Australia',\n",
       "       'Austria', 'Canada', 'China', 'Finland', 'France', 'Greece',\n",
       "       'HongKong', 'Ireland', 'Italy', 'Japan', 'Macau', 'Malaysia',\n",
       "       'Mauritius', 'Netherland', 'New Zealand', 'Norway', 'Pakistan',\n",
       "       'Portugal', 'Russian Federation', 'Saudi Arabia', 'Scotland',\n",
       "       'Singapore', 'South Korea', 'SouthKorea', 'Spain', 'Sweden',\n",
       "       'Thailand', 'Turkey', 'UK', 'USA', 'USofA', 'Urbana', 'germany'],\n",
       "      dtype=object)"
      ]
     },
     "execution_count": 3,
     "metadata": {},
     "output_type": "execute_result"
    }
   ],
   "source": [
    "# get all the unique values in the 'Country' column\n",
    "countries = professors['Country'].unique()\n",
    "\n",
    "# sort them alphabetically and then take a closer look\n",
    "countries.sort()\n",
    "countries"
   ]
  },
  {
   "cell_type": "markdown",
   "id": "276152c6-eb2e-4494-9acb-7f802ea0c051",
   "metadata": {},
   "source": [
    "單從這點來看，我就能發現一些由於資料輸入不一致而造成的問題，  \n",
    "例如「 Germany」和「germany」，或是「 New Zealand」和「New Zealand」。"
   ]
  },
  {
   "cell_type": "markdown",
   "id": "c8e2f3dd-93a7-41de-8187-b55d94240eb3",
   "metadata": {},
   "source": [
    "我要做的第一件事是將所有內容轉換為小寫（如果我希望，最後可以改回來）並刪除單元格開頭和結尾的任何空白。  \n",
    "在文本資料中，大小寫不一致和尾隨空白非常常見，通過這樣做，你可以修正大約 80% 的文本資料輸入不一致的問題。"
   ]
  },
  {
   "cell_type": "code",
   "execution_count": 4,
   "id": "b17a4f20-d700-429c-abff-b54066e1de9d",
   "metadata": {
    "tags": []
   },
   "outputs": [],
   "source": [
    "# convert to lower case\n",
    "professors['Country'] = professors['Country'].str.lower()\n",
    "# remove trailing white spaces\n",
    "professors['Country'] = professors['Country'].str.strip()"
   ]
  },
  {
   "cell_type": "markdown",
   "id": "05671269-2524-43af-aa45-75789cffeb28",
   "metadata": {},
   "source": [
    "接下來，我們將處理更困難的不一致性問題。"
   ]
  },
  {
   "cell_type": "markdown",
   "id": "c65a89d0-7be4-4776-9ddc-946af4160034",
   "metadata": {},
   "source": [
    "## 2. Use fuzzy matching to correct inconsistent data entry"
   ]
  },
  {
   "cell_type": "markdown",
   "id": "d97e832b-8185-4354-8c20-c3e7f9c0764a",
   "metadata": {},
   "source": [
    "好的，讓我們再次檢視「國家」欄位，看看是否還有更多的數據清理工作需要進行。"
   ]
  },
  {
   "cell_type": "code",
   "execution_count": 5,
   "id": "f83fba68-a7b8-4509-aea4-4915339a922b",
   "metadata": {
    "tags": []
   },
   "outputs": [
    {
     "data": {
      "text/plain": [
       "array(['australia', 'austria', 'canada', 'china', 'finland', 'france',\n",
       "       'germany', 'greece', 'hongkong', 'ireland', 'italy', 'japan',\n",
       "       'macau', 'malaysia', 'mauritius', 'netherland', 'new zealand',\n",
       "       'norway', 'pakistan', 'portugal', 'russian federation',\n",
       "       'saudi arabia', 'scotland', 'singapore', 'south korea',\n",
       "       'southkorea', 'spain', 'sweden', 'thailand', 'turkey', 'uk',\n",
       "       'urbana', 'usa', 'usofa'], dtype=object)"
      ]
     },
     "execution_count": 5,
     "metadata": {},
     "output_type": "execute_result"
    }
   ],
   "source": [
    "# get all the unique values in the 'Country' column\n",
    "countries = professors['Country'].unique()\n",
    "\n",
    "# sort them alphabetically and then take a closer look\n",
    "countries.sort()\n",
    "countries"
   ]
  },
  {
   "cell_type": "markdown",
   "id": "c8f32421-4299-429a-baa6-093c519b07bd",
   "metadata": {},
   "source": [
    "看起來確實還有另一個不一致的地方：「southkorea」和「south korea」應該是相同的。"
   ]
  },
  {
   "cell_type": "markdown",
   "id": "681dc124-6e40-4e9c-936b-1a0c15b6e34d",
   "metadata": {},
   "source": [
    "我們將使用 fuzzywuzzy 套件來幫助識別哪些字串彼此最接近。這個資料集足夠小，我們可能可以手動更正錯誤，  \n",
    "但這種方法並不適合大規模應用。  \n",
    "（你會想要手動更正一千個錯誤嗎？那麼一萬個錯誤呢？盡早自動化處理通常是個好主意。而且，這很有趣！）"
   ]
  },
  {
   "cell_type": "markdown",
   "id": "a8282f43-24ac-4fd8-b6eb-1324adca786c",
   "metadata": {},
   "source": [
    "**模糊匹配(Fuzzy matching)：自動尋找與目標字串非常相似的文字字串的過程。**  \n",
    "一般來說，一個字串被認為與另一個字串「更接近」的程度取決於如果你要將一個字串變換為另一個字串，  \n",
    "需要更改的字元數量越少。所以「apple」和「snapple」之間有兩個變化（增加「s」和「n」），  \n",
    "而「in」和「on」之間有一個變化（將「i」替換為「o」）。  \n",
    "你不會總是能夠100%依賴模糊匹配，但它通常會至少節省你一些時間。"
   ]
  },
  {
   "cell_type": "markdown",
   "id": "cacb71cd-28ef-4728-b37c-7bf844f78023",
   "metadata": {},
   "source": [
    "Fuzzywuzzy 返回兩個字串之間的比率。比率越接近 100，兩個字串之間的編輯距離就越小。  \n",
    "在這裡，我們將從我們的城市列表中獲得與「south korea」距離最近的十個字串。"
   ]
  },
  {
   "cell_type": "code",
   "execution_count": 6,
   "id": "29ec4185-2b02-4299-8934-6ca0e6a239c6",
   "metadata": {
    "tags": []
   },
   "outputs": [
    {
     "data": {
      "text/plain": [
       "[('south korea', 100),\n",
       " ('southkorea', 48),\n",
       " ('saudi arabia', 43),\n",
       " ('norway', 35),\n",
       " ('austria', 33),\n",
       " ('ireland', 33),\n",
       " ('pakistan', 32),\n",
       " ('portugal', 32),\n",
       " ('scotland', 32),\n",
       " ('australia', 30)]"
      ]
     },
     "execution_count": 6,
     "metadata": {},
     "output_type": "execute_result"
    }
   ],
   "source": [
    "# get the top 10 closest matches to \"south korea\"\n",
    "matches = fuzzywuzzy.process.extract(\"south korea\", countries, limit=10, scorer=fuzzywuzzy.fuzz.token_sort_ratio)\n",
    "\n",
    "# take a look at them\n",
    "matches"
   ]
  },
  {
   "cell_type": "markdown",
   "id": "d5c0ca10-655a-471f-b084-ea42cc110286",
   "metadata": {},
   "source": [
    "我們可以看到在城市列表中有兩個項目與「south korea」非常接近：「south korea」和「southkorea」。  \n",
    "讓我們將「國家」欄中所有比率大於 47 的行替換為「south korea」。"
   ]
  },
  {
   "cell_type": "markdown",
   "id": "c220042e-5749-42f8-a594-6a763c37985d",
   "metadata": {},
   "source": [
    "為了做到這一點，我將編寫一個函數。（如果你認為可能需要多次執行某個特定任務，編寫一個通用的函數以便重複使用是個好主意。  \n",
    "這可以避免你過於頻繁地複製和粘貼代碼，從而節省時間並有助於防止錯誤。）"
   ]
  },
  {
   "cell_type": "code",
   "execution_count": 7,
   "id": "ab265612-9527-4818-8a23-7841ffd22ddb",
   "metadata": {
    "tags": []
   },
   "outputs": [],
   "source": [
    "# function to replace rows in the provided column of the provided dataframe\n",
    "# that match the provided string above the provided ratio with the provided string\n",
    "def replace_matches_in_column(df, column, string_to_match, min_ratio = 47):\n",
    "    # get a list of unique strings\n",
    "    strings = df[column].unique()\n",
    "    \n",
    "    # get the top 10 closest matches to our input string\n",
    "    matches = fuzzywuzzy.process.extract(string_to_match, strings, \n",
    "                                         limit=10, scorer=fuzzywuzzy.fuzz.token_sort_ratio)\n",
    "\n",
    "    # only get matches with a ratio > 90\n",
    "    close_matches = [matches[0] for matches in matches if matches[1] >= min_ratio]\n",
    "\n",
    "    # get the rows of all the close matches in our dataframe\n",
    "    rows_with_matches = df[column].isin(close_matches)\n",
    "\n",
    "    # replace all rows with close matches with the input matches \n",
    "    df.loc[rows_with_matches, column] = string_to_match\n",
    "    \n",
    "    # let us know the function's done\n",
    "    print(\"All done!\")"
   ]
  },
  {
   "cell_type": "markdown",
   "id": "5faf6a88-c724-46e9-94f2-c4740fc70b7a",
   "metadata": {},
   "source": [
    "既然我們已經有了一個函數，現在可以對它進行測試了！"
   ]
  },
  {
   "cell_type": "code",
   "execution_count": 8,
   "id": "3ef0b2d2-36de-408f-9d0b-5b311cf618c7",
   "metadata": {
    "tags": []
   },
   "outputs": [
    {
     "name": "stdout",
     "output_type": "stream",
     "text": [
      "All done!\n"
     ]
    }
   ],
   "source": [
    "# use the function we just wrote to replace close matches to \"south korea\" with \"south korea\"\n",
    "replace_matches_in_column(df=professors, column='Country', string_to_match=\"south korea\")"
   ]
  },
  {
   "cell_type": "markdown",
   "id": "a5a25732-0882-438d-894c-2893aa8cf4a2",
   "metadata": {},
   "source": [
    "現在，讓我們再次檢查我們「國家」欄中的唯一值，確保我們正確整理了「south korea」。"
   ]
  },
  {
   "cell_type": "code",
   "execution_count": 9,
   "id": "cff962ae-f5c9-4e93-858c-b6b3aa92a69b",
   "metadata": {
    "tags": []
   },
   "outputs": [
    {
     "data": {
      "text/plain": [
       "array(['australia', 'austria', 'canada', 'china', 'finland', 'france',\n",
       "       'germany', 'greece', 'hongkong', 'ireland', 'italy', 'japan',\n",
       "       'macau', 'malaysia', 'mauritius', 'netherland', 'new zealand',\n",
       "       'norway', 'pakistan', 'portugal', 'russian federation',\n",
       "       'saudi arabia', 'scotland', 'singapore', 'south korea', 'spain',\n",
       "       'sweden', 'thailand', 'turkey', 'uk', 'urbana', 'usa', 'usofa'],\n",
       "      dtype=object)"
      ]
     },
     "execution_count": 9,
     "metadata": {},
     "output_type": "execute_result"
    }
   ],
   "source": [
    "# get all the unique values in the 'Country' column\n",
    "countries = professors['Country'].unique()\n",
    "\n",
    "# sort them alphabetically and then take a closer look\n",
    "countries.sort()\n",
    "countries"
   ]
  },
  {
   "cell_type": "markdown",
   "id": "2c0db2e1-da5b-4f2d-96db-cf5af4637646",
   "metadata": {},
   "source": [
    "太好了！現在我們的資料框中只有「south korea」，而且我們不需要手動更改任何內容。"
   ]
  },
  {
   "cell_type": "code",
   "execution_count": null,
   "id": "30f94dfe-3345-4b5b-b640-36112748e6b6",
   "metadata": {},
   "outputs": [],
   "source": []
  }
 ],
 "metadata": {
  "kernelspec": {
   "display_name": "Python 3 (ipykernel)",
   "language": "python",
   "name": "python3"
  },
  "language_info": {
   "codemirror_mode": {
    "name": "ipython",
    "version": 3
   },
   "file_extension": ".py",
   "mimetype": "text/x-python",
   "name": "python",
   "nbconvert_exporter": "python",
   "pygments_lexer": "ipython3",
   "version": "3.10.13"
  }
 },
 "nbformat": 4,
 "nbformat_minor": 5
}
