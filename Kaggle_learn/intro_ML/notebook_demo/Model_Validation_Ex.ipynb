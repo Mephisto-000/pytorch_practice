{
 "cells": [
  {
   "cell_type": "markdown",
   "id": "68fd93b4-0b06-4d7f-9f88-d848bf47983c",
   "metadata": {},
   "source": [
    "# Model Validation (Example)"
   ]
  },
  {
   "cell_type": "markdown",
   "id": "aa964ae0-9310-429a-a135-a47e094477d9",
   "metadata": {},
   "source": [
    "**Measure the performance of your model, so you can test and compare alternatives.**"
   ]
  },
  {
   "cell_type": "markdown",
   "id": "0a926d03-a2b4-4694-8bed-b87478ae9ede",
   "metadata": {},
   "source": [
    "## 0. Modules & Data"
   ]
  },
  {
   "cell_type": "code",
   "execution_count": 1,
   "id": "7dfb16c9-2026-4f8f-8198-683f3bf5ddfc",
   "metadata": {
    "tags": []
   },
   "outputs": [
    {
     "data": {
      "text/html": [
       "<style>#sk-container-id-1 {color: black;}#sk-container-id-1 pre{padding: 0;}#sk-container-id-1 div.sk-toggleable {background-color: white;}#sk-container-id-1 label.sk-toggleable__label {cursor: pointer;display: block;width: 100%;margin-bottom: 0;padding: 0.3em;box-sizing: border-box;text-align: center;}#sk-container-id-1 label.sk-toggleable__label-arrow:before {content: \"▸\";float: left;margin-right: 0.25em;color: #696969;}#sk-container-id-1 label.sk-toggleable__label-arrow:hover:before {color: black;}#sk-container-id-1 div.sk-estimator:hover label.sk-toggleable__label-arrow:before {color: black;}#sk-container-id-1 div.sk-toggleable__content {max-height: 0;max-width: 0;overflow: hidden;text-align: left;background-color: #f0f8ff;}#sk-container-id-1 div.sk-toggleable__content pre {margin: 0.2em;color: black;border-radius: 0.25em;background-color: #f0f8ff;}#sk-container-id-1 input.sk-toggleable__control:checked~div.sk-toggleable__content {max-height: 200px;max-width: 100%;overflow: auto;}#sk-container-id-1 input.sk-toggleable__control:checked~label.sk-toggleable__label-arrow:before {content: \"▾\";}#sk-container-id-1 div.sk-estimator input.sk-toggleable__control:checked~label.sk-toggleable__label {background-color: #d4ebff;}#sk-container-id-1 div.sk-label input.sk-toggleable__control:checked~label.sk-toggleable__label {background-color: #d4ebff;}#sk-container-id-1 input.sk-hidden--visually {border: 0;clip: rect(1px 1px 1px 1px);clip: rect(1px, 1px, 1px, 1px);height: 1px;margin: -1px;overflow: hidden;padding: 0;position: absolute;width: 1px;}#sk-container-id-1 div.sk-estimator {font-family: monospace;background-color: #f0f8ff;border: 1px dotted black;border-radius: 0.25em;box-sizing: border-box;margin-bottom: 0.5em;}#sk-container-id-1 div.sk-estimator:hover {background-color: #d4ebff;}#sk-container-id-1 div.sk-parallel-item::after {content: \"\";width: 100%;border-bottom: 1px solid gray;flex-grow: 1;}#sk-container-id-1 div.sk-label:hover label.sk-toggleable__label {background-color: #d4ebff;}#sk-container-id-1 div.sk-serial::before {content: \"\";position: absolute;border-left: 1px solid gray;box-sizing: border-box;top: 0;bottom: 0;left: 50%;z-index: 0;}#sk-container-id-1 div.sk-serial {display: flex;flex-direction: column;align-items: center;background-color: white;padding-right: 0.2em;padding-left: 0.2em;position: relative;}#sk-container-id-1 div.sk-item {position: relative;z-index: 1;}#sk-container-id-1 div.sk-parallel {display: flex;align-items: stretch;justify-content: center;background-color: white;position: relative;}#sk-container-id-1 div.sk-item::before, #sk-container-id-1 div.sk-parallel-item::before {content: \"\";position: absolute;border-left: 1px solid gray;box-sizing: border-box;top: 0;bottom: 0;left: 50%;z-index: -1;}#sk-container-id-1 div.sk-parallel-item {display: flex;flex-direction: column;z-index: 1;position: relative;background-color: white;}#sk-container-id-1 div.sk-parallel-item:first-child::after {align-self: flex-end;width: 50%;}#sk-container-id-1 div.sk-parallel-item:last-child::after {align-self: flex-start;width: 50%;}#sk-container-id-1 div.sk-parallel-item:only-child::after {width: 0;}#sk-container-id-1 div.sk-dashed-wrapped {border: 1px dashed gray;margin: 0 0.4em 0.5em 0.4em;box-sizing: border-box;padding-bottom: 0.4em;background-color: white;}#sk-container-id-1 div.sk-label label {font-family: monospace;font-weight: bold;display: inline-block;line-height: 1.2em;}#sk-container-id-1 div.sk-label-container {text-align: center;}#sk-container-id-1 div.sk-container {/* jupyter's `normalize.less` sets `[hidden] { display: none; }` but bootstrap.min.css set `[hidden] { display: none !important; }` so we also need the `!important` here to be able to override the default hidden behavior on the sphinx rendered scikit-learn.org. See: https://github.com/scikit-learn/scikit-learn/issues/21755 */display: inline-block !important;position: relative;}#sk-container-id-1 div.sk-text-repr-fallback {display: none;}</style><div id=\"sk-container-id-1\" class=\"sk-top-container\"><div class=\"sk-text-repr-fallback\"><pre>DecisionTreeRegressor()</pre><b>In a Jupyter environment, please rerun this cell to show the HTML representation or trust the notebook. <br />On GitHub, the HTML representation is unable to render, please try loading this page with nbviewer.org.</b></div><div class=\"sk-container\" hidden><div class=\"sk-item\"><div class=\"sk-estimator sk-toggleable\"><input class=\"sk-toggleable__control sk-hidden--visually\" id=\"sk-estimator-id-1\" type=\"checkbox\" checked><label for=\"sk-estimator-id-1\" class=\"sk-toggleable__label sk-toggleable__label-arrow\">DecisionTreeRegressor</label><div class=\"sk-toggleable__content\"><pre>DecisionTreeRegressor()</pre></div></div></div></div></div>"
      ],
      "text/plain": [
       "DecisionTreeRegressor()"
      ]
     },
     "execution_count": 1,
     "metadata": {},
     "output_type": "execute_result"
    }
   ],
   "source": [
    "import os  # for path\n",
    "import pandas as pd\n",
    "from sklearn.tree import DecisionTreeRegressor\n",
    "from sklearn.metrics import mean_absolute_error  # for MAE\n",
    "from sklearn.model_selection import train_test_split  # for validation\n",
    "\n",
    "\n",
    "# load data : \n",
    "melbourne_file_path = os.path.join(\"..\", \"data\", \"melb_data.csv\")\n",
    "melbourne_data = pd.read_csv(melbourne_file_path)\n",
    "\n",
    "# Filter rows with missing price values\n",
    "filtered_melbourne_data = melbourne_data.dropna(axis=0)\n",
    "\n",
    "# Choose target and features\n",
    "y = filtered_melbourne_data.Price\n",
    "\n",
    "melbourne_features = ['Rooms', 'Bathroom', 'Landsize', 'BuildingArea', 'YearBuilt', 'Lattitude', 'Longtitude']\n",
    "X = filtered_melbourne_data[melbourne_features]\n",
    "\n",
    "# Define model\n",
    "melbourne_model = DecisionTreeRegressor()\n",
    "# Fit model\n",
    "melbourne_model.fit(X, y)"
   ]
  },
  {
   "cell_type": "markdown",
   "id": "ee776370-1f55-4ecc-9a30-7348a5f566b2",
   "metadata": {},
   "source": [
    "## 1. What is Model Validation"
   ]
  },
  {
   "cell_type": "markdown",
   "id": "599e0132-be14-4e23-8baa-6724a71a8908",
   "metadata": {},
   "source": [
    "You'll want to evaluate almost every model you ever build. In most (though not all) applications,   \n",
    "the relevant measure of model quality is predictive accuracy.   \n",
    "In other words, will the model's predictions be close to what actually happens."
   ]
  },
  {
   "cell_type": "markdown",
   "id": "06fcb2f3-1c20-4857-8542-811eacc7966c",
   "metadata": {},
   "source": [
    "Many people make a huge mistake when measuring predictive accuracy.   \n",
    "They make predictions with their *training data* and compare those predictions to the target values in the *training data*.   \n",
    "You'll see the problem with this approach and how to solve it in a moment, but let's think about how we'd do this first."
   ]
  },
  {
   "cell_type": "markdown",
   "id": "ee615a1e-a340-4889-8824-60fc4949b074",
   "metadata": {},
   "source": [
    "You'd first need to summarize the model quality into an understandable way.   \n",
    "If you compare predicted and actual home values for 10,000 houses, you'll likely find mix of good and bad predictions.   \n",
    "Looking through a list of 10,000 predicted and actual values would be pointless. We need to summarize this into a single metric."
   ]
  },
  {
   "cell_type": "markdown",
   "id": "d79a4170-9e8f-45cb-902f-d8f08efe0999",
   "metadata": {},
   "source": [
    "There are many metrics for summarizing model quality, but we'll start with one called Mean Absolute Error (also called MAE).   \n",
    "Let's break down this metric starting with the last word, error.\n",
    "\n",
    "The prediction error for each house is:"
   ]
  },
  {
   "cell_type": "markdown",
   "id": "cd5c0017-2d6b-413e-ba95-ab0665d0db1d",
   "metadata": {},
   "source": [
    "`error=actual−predicted`"
   ]
  },
  {
   "cell_type": "markdown",
   "id": "7382d83c-6328-4e66-8939-055f5501310b",
   "metadata": {},
   "source": [
    "**So, if a house cost \\\\$150,000 and you predicted it would cost \\\\$100,000 the error is $50,000.**"
   ]
  },
  {
   "cell_type": "markdown",
   "id": "dfba4210-5f5b-4ee8-b827-d7ac907dc721",
   "metadata": {},
   "source": [
    "With the MAE metric, we take the absolute value of each error. This converts each error to a positive number.   \n",
    "We then take the average of those absolute errors.   \n",
    "This is our measure of model quality. In plain English, it can be said as"
   ]
  },
  {
   "cell_type": "markdown",
   "id": "b199e189-0be6-43eb-99d2-5735b21bd4f3",
   "metadata": {},
   "source": [
    "**On average, our predictions are off by about X.**"
   ]
  },
  {
   "cell_type": "markdown",
   "id": "151d35e7-f7ae-4898-a486-ad883c4e006a",
   "metadata": {},
   "source": [
    "Once we have a model, here is how we calculate the mean absolute error:"
   ]
  },
  {
   "cell_type": "code",
   "execution_count": 2,
   "id": "d52df654-87a2-40d1-b4c7-08612c94a004",
   "metadata": {
    "tags": []
   },
   "outputs": [
    {
     "data": {
      "text/plain": [
       "434.71594577146544"
      ]
     },
     "execution_count": 2,
     "metadata": {},
     "output_type": "execute_result"
    }
   ],
   "source": [
    "predicted_home_prices = melbourne_model.predict(X)\n",
    "mean_absolute_error(y, predicted_home_prices)"
   ]
  },
  {
   "cell_type": "markdown",
   "id": "b244c8cf-4966-4a5f-b461-82cd8e46b12c",
   "metadata": {},
   "source": [
    "## 2. The Problem with \"In-Sample\" Scores"
   ]
  },
  {
   "cell_type": "markdown",
   "id": "f9d893d3-f023-4c46-aed0-79f25d98b0fb",
   "metadata": {},
   "source": [
    "The measure we just computed can be called an \"in-sample\" score.   \n",
    "We used a single \"sample\" of houses for both building the model and evaluating it.   \n",
    "Here's why this is bad."
   ]
  },
  {
   "cell_type": "markdown",
   "id": "8808d973-2edf-4a52-ac80-61ef25a367d1",
   "metadata": {},
   "source": [
    "Imagine that, in the large real estate market, door color is unrelated to home price."
   ]
  },
  {
   "cell_type": "markdown",
   "id": "34c89b78-1e70-42a1-8b33-03e28820ff22",
   "metadata": {},
   "source": [
    "However, in the sample of data you used to build the model, all homes with green doors were very expensive.   \n",
    "The model's job is to find patterns that predict home prices, so it will see this pattern,   \n",
    "and it will always predict high prices for homes with green doors."
   ]
  },
  {
   "cell_type": "markdown",
   "id": "dea7b0aa-5e05-488b-949d-25d93ea082e4",
   "metadata": {},
   "source": [
    "Since this pattern was derived from the training data, the model will appear accurate in the training data."
   ]
  },
  {
   "cell_type": "markdown",
   "id": "42e8dd84-86ca-4d10-ae2e-cd40bce70d27",
   "metadata": {},
   "source": [
    "But if this pattern doesn't hold when the model sees new data, the model would be very inaccurate when used in practice."
   ]
  },
  {
   "cell_type": "markdown",
   "id": "48cecef7-99bd-4f44-9926-9b4876922504",
   "metadata": {},
   "source": [
    "Since models' practical value come from making predictions on new data, we measure performance   \n",
    "on data that wasn't used to build the model. The most straightforward way to do this is to exclude   \n",
    "some data from the model-building process, and then use those to test the model's accuracy on data   \n",
    "it hasn't seen before. This data is called **validation data**."
   ]
  },
  {
   "cell_type": "markdown",
   "id": "957dbb91-06a6-491f-b5b1-78fb6aca9b4b",
   "metadata": {},
   "source": [
    "## 3. Coding It"
   ]
  },
  {
   "cell_type": "markdown",
   "id": "74d46371-9d63-47ba-b956-f19d089cfea9",
   "metadata": {},
   "source": [
    "The scikit-learn library has a function `train_test_split` to break up the data into two pieces.   \n",
    "We'll use some of that data as training data to fit the model, and we'll use the other data as   \n",
    "validation data to calculate `mean_absolute_error`."
   ]
  },
  {
   "cell_type": "code",
   "execution_count": 3,
   "id": "ee62007e-68cf-43e0-9562-6cc3cfbb2fa7",
   "metadata": {},
   "outputs": [
    {
     "name": "stdout",
     "output_type": "stream",
     "text": [
      "259899.18592640414\n"
     ]
    }
   ],
   "source": [
    "# split data into training and validation data, for both features and target\n",
    "# The split is based on a random number generator. Supplying a numeric value to\n",
    "# the random_state argument guarantees we get the same split every time we\n",
    "# run this script.\n",
    "train_X, val_X, train_y, val_y = train_test_split(X, y, random_state = 0)\n",
    "\n",
    "# Define model\n",
    "melbourne_model = DecisionTreeRegressor()\n",
    "\n",
    "# Fit model\n",
    "melbourne_model.fit(train_X, train_y)\n",
    "\n",
    "# get predicted prices on validation data\n",
    "val_predictions = melbourne_model.predict(val_X)\n",
    "print(mean_absolute_error(val_y, val_predictions))"
   ]
  },
  {
   "cell_type": "markdown",
   "id": "ff0a66e0-107b-4ad7-aab4-9697d02771cc",
   "metadata": {},
   "source": [
    "Your mean absolute error for the in-sample data was about 500 dollars.   \n",
    "Out-of-sample it is more than 250,000 dollars."
   ]
  },
  {
   "cell_type": "markdown",
   "id": "28183a90-a0b9-4eea-b597-31b400bfebd6",
   "metadata": {},
   "source": [
    "This is the difference between a model that is almost exactly right, and one that   \n",
    "is unusable for most practical purposes. As a point of reference, the average home value in the   \n",
    "validation data is 1.1 million dollars.   \n",
    "So the error in new data is about a quarter of the average home value."
   ]
  },
  {
   "cell_type": "markdown",
   "id": "c3fabeae-3566-4bd9-b941-7671db3290a9",
   "metadata": {},
   "source": [
    "There are many ways to improve this model, such as experimenting to find better features or different model types."
   ]
  },
  {
   "cell_type": "code",
   "execution_count": null,
   "id": "0f77b7ab-fcf0-4bfe-b026-584c3683ee40",
   "metadata": {},
   "outputs": [],
   "source": []
  }
 ],
 "metadata": {
  "kernelspec": {
   "display_name": "Python 3 (ipykernel)",
   "language": "python",
   "name": "python3"
  },
  "language_info": {
   "codemirror_mode": {
    "name": "ipython",
    "version": 3
   },
   "file_extension": ".py",
   "mimetype": "text/x-python",
   "name": "python",
   "nbconvert_exporter": "python",
   "pygments_lexer": "ipython3",
   "version": "3.10.13"
  }
 },
 "nbformat": 4,
 "nbformat_minor": 5
}
