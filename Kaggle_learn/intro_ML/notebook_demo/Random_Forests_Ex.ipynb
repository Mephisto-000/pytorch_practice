{
 "cells": [
  {
   "cell_type": "markdown",
   "id": "27fbbfa0-edfb-457c-ab3e-20a479351c72",
   "metadata": {},
   "source": [
    "# Random Forests"
   ]
  },
  {
   "cell_type": "markdown",
   "id": "c9d6356b-4165-4c3d-91f9-c0314cb1c991",
   "metadata": {},
   "source": [
    "## 0. Modules & Data"
   ]
  },
  {
   "cell_type": "code",
   "execution_count": 1,
   "id": "786c572c-fc38-4fde-a09e-24c673267d34",
   "metadata": {
    "tags": []
   },
   "outputs": [],
   "source": [
    "import os\n",
    "import pandas as pd\n",
    "from sklearn.model_selection import train_test_split\n",
    "from sklearn.ensemble import RandomForestRegressor\n",
    "from sklearn.metrics import mean_absolute_error\n",
    "\n",
    "# load data : \n",
    "melbourne_file_path = os.path.join(\"..\", \"data\", \"melb_data.csv\")\n",
    "melbourne_data = pd.read_csv(melbourne_file_path)\n",
    "\n",
    "# Filter rows with missing price values\n",
    "filtered_melbourne_data = melbourne_data.dropna(axis=0)\n",
    "\n",
    "# Choose target and features\n",
    "y = filtered_melbourne_data.Price\n",
    "\n",
    "melbourne_features = ['Rooms', 'Bathroom', 'Landsize', 'BuildingArea', 'YearBuilt', 'Lattitude', 'Longtitude']\n",
    "X = filtered_melbourne_data[melbourne_features]\n",
    "\n",
    "# split data into training and validation data, for both features and target\n",
    "train_X, val_X, train_y, val_y = train_test_split(X, y,random_state = 0)"
   ]
  },
  {
   "cell_type": "markdown",
   "id": "8c48cf80-498b-45f8-98ff-e2243f85bd98",
   "metadata": {},
   "source": [
    "## 1. Introduction"
   ]
  },
  {
   "cell_type": "markdown",
   "id": "03792183-353b-415f-9ccc-dd38afbf8a5b",
   "metadata": {},
   "source": [
    "Decision trees leave you with a difficult decision. A deep tree with lots of leaves will overfit because   \n",
    "each prediction is coming from historical data from only the few houses at its leaf. But a shallow tree with few   \n",
    "leaves will perform poorly because it fails to capture as many distinctions in the raw data."
   ]
  },
  {
   "cell_type": "markdown",
   "id": "dfc4a4a0-9715-4e2e-aa74-589357e49a73",
   "metadata": {},
   "source": [
    "Even today's most sophisticated modeling techniques face this tension between underfitting and overfitting.   \n",
    "But, many models have clever ideas that can lead to better performance. We'll look at the **random forest** as an example."
   ]
  },
  {
   "cell_type": "markdown",
   "id": "ba55ba8f-c4c9-45e9-965f-2121ce2c9af4",
   "metadata": {},
   "source": [
    "The random forest uses many trees, and it makes a prediction by averaging the predictions of each component tree.   \n",
    "It generally has much better predictive accuracy than a single decision tree and it works well with default parameters.   \n",
    "If you keep modeling, you can learn more models with even better performance, but many of those are sensitive to getting the right parameters."
   ]
  },
  {
   "cell_type": "markdown",
   "id": "1e834d3d-53d1-4a67-9ebd-ab892c8692ad",
   "metadata": {},
   "source": [
    "## 2. Example"
   ]
  },
  {
   "cell_type": "markdown",
   "id": "4c0eafab-3eac-4ce1-96de-f1d8da31f3db",
   "metadata": {},
   "source": [
    "You've already seen the code to load the data a few times. At the end of data-loading, we have the following variables:"
   ]
  },
  {
   "cell_type": "markdown",
   "id": "b71ee881-1768-4080-8470-fba277a453da",
   "metadata": {},
   "source": [
    "- train_X  \n",
    "- val_X  \n",
    "- train_y  \n",
    "- val_y"
   ]
  },
  {
   "cell_type": "markdown",
   "id": "805653bf-69c4-410b-bb2c-f728645ddeda",
   "metadata": {},
   "source": [
    "We build a random forest model similarly to how we built a decision tree in scikit-learn - this time using   \n",
    "the `RandomForestRegressor` class instead of `DecisionTreeRegressor`."
   ]
  },
  {
   "cell_type": "code",
   "execution_count": 2,
   "id": "c94f1654-395a-402a-897e-8ab288dea25e",
   "metadata": {
    "tags": []
   },
   "outputs": [
    {
     "name": "stdout",
     "output_type": "stream",
     "text": [
      "191669.7536453626\n"
     ]
    }
   ],
   "source": [
    "forest_model = RandomForestRegressor(random_state=1)\n",
    "forest_model.fit(train_X, train_y)\n",
    "\n",
    "melb_preds = forest_model.predict(val_X)\n",
    "print(mean_absolute_error(val_y, melb_preds))"
   ]
  },
  {
   "cell_type": "markdown",
   "id": "a0f50d0c-2029-415f-ada8-19ac6eb15c68",
   "metadata": {},
   "source": [
    "## 3. Conclusion"
   ]
  },
  {
   "cell_type": "markdown",
   "id": "c0488ee3-7e42-4ba9-b1bd-835715419341",
   "metadata": {},
   "source": [
    "There is likely room for further improvement, but this is a big improvement over the best decision tree error of 250,000.   \n",
    "There are parameters which allow you to change the performance of the Random Forest much as we changed the maximum depth   \n",
    "of the single decision tree. But one of the best features of Random Forest models is that they generally work   \n",
    "reasonably even without this tuning."
   ]
  },
  {
   "cell_type": "code",
   "execution_count": null,
   "id": "e3cc357b-f633-47c9-bdab-6e8bf95517b4",
   "metadata": {},
   "outputs": [],
   "source": []
  }
 ],
 "metadata": {
  "kernelspec": {
   "display_name": "Python 3 (ipykernel)",
   "language": "python",
   "name": "python3"
  },
  "language_info": {
   "codemirror_mode": {
    "name": "ipython",
    "version": 3
   },
   "file_extension": ".py",
   "mimetype": "text/x-python",
   "name": "python",
   "nbconvert_exporter": "python",
   "pygments_lexer": "ipython3",
   "version": "3.10.13"
  }
 },
 "nbformat": 4,
 "nbformat_minor": 5
}
