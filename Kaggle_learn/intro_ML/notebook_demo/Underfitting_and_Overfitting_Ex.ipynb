{
 "cells": [
  {
   "cell_type": "markdown",
   "id": "1c5d4ef1-c387-4f72-8552-dcb5ed0bb33e",
   "metadata": {},
   "source": [
    "# Underfitting and Overfitting (Example)"
   ]
  },
  {
   "cell_type": "markdown",
   "id": "307df51a-cd99-4d90-9b86-13addfa1d549",
   "metadata": {},
   "source": [
    "## 0. Modules & Data"
   ]
  },
  {
   "cell_type": "code",
   "execution_count": 1,
   "id": "d5c8de7f-ed22-4d25-a084-3ff56d0bfa19",
   "metadata": {},
   "outputs": [],
   "source": [
    "import os\n",
    "import pandas as pd\n",
    "from sklearn.model_selection import train_test_split\n",
    "from sklearn.metrics import mean_absolute_error\n",
    "from sklearn.tree import DecisionTreeRegressor\n",
    "\n",
    "\n",
    "# load data : \n",
    "melbourne_file_path = os.path.join(\"..\", \"data\", \"melb_data.csv\")\n",
    "melbourne_data = pd.read_csv(melbourne_file_path)\n",
    "\n",
    "# Filter rows with missing price values\n",
    "filtered_melbourne_data = melbourne_data.dropna(axis=0)\n",
    "\n",
    "# Choose target and features\n",
    "y = filtered_melbourne_data.Price\n",
    "\n",
    "melbourne_features = ['Rooms', 'Bathroom', 'Landsize', 'BuildingArea', 'YearBuilt', 'Lattitude', 'Longtitude']\n",
    "X = filtered_melbourne_data[melbourne_features]\n",
    "\n",
    "# split data into training and validation data, for both features and target\n",
    "train_X, val_X, train_y, val_y = train_test_split(X, y,random_state = 0)"
   ]
  },
  {
   "cell_type": "markdown",
   "id": "d0c1175c-b705-42c2-be46-b8afadbce2e8",
   "metadata": {},
   "source": [
    "## 1. Experimenting With Different Models"
   ]
  },
  {
   "cell_type": "markdown",
   "id": "393ba64a-c770-485a-8416-3d7e1bd42e17",
   "metadata": {},
   "source": [
    "Now that you have a reliable way to measure model accuracy, you can experiment with alternative models   \n",
    "and see which gives the best predictions. But what alternatives do you have for models?"
   ]
  },
  {
   "cell_type": "markdown",
   "id": "05980ae1-9b2c-4999-981e-4d7ebfca5fc2",
   "metadata": {},
   "source": [
    "You can see in scikit-learn's [documentation](https://scikit-learn.org/stable/modules/generated/sklearn.tree.DecisionTreeRegressor.html) that the decision tree model has many options (more than you'll want or need for a long time).   \n",
    "The most important options determine the tree's depth. Recall from the first lesson in this course that a   \n",
    "tree's depth is a measure of how many splits it makes before coming to a prediction. This is a relatively shallow tree"
   ]
  },
  {
   "cell_type": "markdown",
   "id": "a023dcc3-9e1d-48a2-bbbc-b279f3161047",
   "metadata": {},
   "source": [
    "In practice, it's not uncommon for a tree to have 10 splits between the top level (all houses) and a leaf.   \n",
    "As the tree gets deeper, the dataset gets sliced up into leaves with fewer houses. If a tree only had 1 split,   \n",
    "it divides the data into 2 groups. If each group is split again, we would get 4 groups of houses.   \n",
    "Splitting each of those again would create 8 groups. If we keep doubling the number of groups by adding more splits at each level, we'll have $2^{10}$  \n",
    "groups of houses by the time we get to the 10th level. That's 1024 leaves."
   ]
  },
  {
   "cell_type": "markdown",
   "id": "c28e6091-d235-4ba5-95a8-487a64e4ad0b",
   "metadata": {},
   "source": [
    "This is a phenomenon called **overfitting**, where a model matches the training data almost perfectly,   \n",
    "but does poorly in validation and other new data. On the flip side, if we make our tree very shallow,   \n",
    "it doesn't divide up the houses into very distinct groups."
   ]
  },
  {
   "cell_type": "markdown",
   "id": "423af432-7c0f-4133-ba15-1b3571b65aa1",
   "metadata": {},
   "source": [
    "At an extreme, if a tree divides houses into only 2 or 4, each group still has a wide variety of houses.   \n",
    "Resulting predictions may be far off for most houses, even in the training data (and it will be bad in validation too for the same reason).   \n",
    "When a model fails to capture important distinctions and patterns in the data, so it performs   \n",
    "poorly even in training data, that is called **underfitting**."
   ]
  },
  {
   "cell_type": "markdown",
   "id": "122a4db9-adc3-4b0e-b776-afe5f8082e4d",
   "metadata": {},
   "source": [
    "Since we care about accuracy on new data, which we estimate from our validation data, we want to find the sweet spot between underfitting and overfitting."
   ]
  },
  {
   "cell_type": "markdown",
   "id": "8195d924-8ff6-400e-905b-856544569d0a",
   "metadata": {},
   "source": [
    "## 2. Example"
   ]
  },
  {
   "cell_type": "markdown",
   "id": "b27d142e-352a-4cc3-b19d-b20c595f22f1",
   "metadata": {},
   "source": [
    "There are a few alternatives for controlling the tree depth, and many allow for some routes through   \n",
    "the tree to have greater depth than other routes. But the **max_leaf_nodes** argument provides a very sensible   \n",
    "way to control overfitting vs underfitting. The more leaves we allow the model to make, the more we move   \n",
    "from the underfitting area in the above graph to the overfitting area."
   ]
  },
  {
   "cell_type": "markdown",
   "id": "71ef6715-2f67-4826-bdd5-353d597efcfb",
   "metadata": {},
   "source": [
    "We can use a utility function to help compare MAE scores from different values for **max_leaf_nodes**:"
   ]
  },
  {
   "cell_type": "code",
   "execution_count": 2,
   "id": "819c3d94-d8c6-4e64-9f5a-569155ae3170",
   "metadata": {
    "tags": []
   },
   "outputs": [],
   "source": [
    "def get_mae(max_leaf_nodes, train_X, val_X, train_y, val_y):\n",
    "    model = DecisionTreeRegressor(max_leaf_nodes=max_leaf_nodes, random_state=0)\n",
    "    model.fit(train_X, train_y)\n",
    "    preds_val = model.predict(val_X)\n",
    "    mae = mean_absolute_error(val_y, preds_val)\n",
    "    return(mae)"
   ]
  },
  {
   "cell_type": "markdown",
   "id": "d0c47813-a0f5-46c9-bf33-606690af6e28",
   "metadata": {},
   "source": [
    "We can use a for-loop to compare the accuracy of models built with different values for **max_leaf_nodes**."
   ]
  },
  {
   "cell_type": "code",
   "execution_count": 3,
   "id": "9abf255a-7895-4b78-a06f-7683d173bb6f",
   "metadata": {
    "tags": []
   },
   "outputs": [
    {
     "name": "stdout",
     "output_type": "stream",
     "text": [
      "Max leaf nodes: 5  \t\t Mean Absolute Error:  347380\n",
      "Max leaf nodes: 50  \t\t Mean Absolute Error:  258171\n",
      "Max leaf nodes: 500  \t\t Mean Absolute Error:  243495\n",
      "Max leaf nodes: 5000  \t\t Mean Absolute Error:  255575\n"
     ]
    }
   ],
   "source": [
    "# compare MAE with differing values of max_leaf_nodes\n",
    "for max_leaf_nodes in [5, 50, 500, 5000]:\n",
    "    my_mae = get_mae(max_leaf_nodes, train_X, val_X, train_y, val_y)\n",
    "    print(\"Max leaf nodes: %d  \\t\\t Mean Absolute Error:  %d\" %(max_leaf_nodes, my_mae))"
   ]
  },
  {
   "cell_type": "markdown",
   "id": "bfc0fbac-b223-42cc-86dd-2c4b844394d7",
   "metadata": {},
   "source": [
    "Of the options listed, **500** is the optimal number of leaves."
   ]
  },
  {
   "cell_type": "markdown",
   "id": "a338d176-0da2-48c9-b5b1-b98e39052638",
   "metadata": {},
   "source": [
    "## 3. Conclusion"
   ]
  },
  {
   "cell_type": "markdown",
   "id": "e2899555-17aa-4d1b-80f4-2043cc1bafcc",
   "metadata": {},
   "source": [
    "Here's the takeaway: Models can suffer from either:"
   ]
  },
  {
   "cell_type": "markdown",
   "id": "8fcb6203-824f-4ab5-abb7-d8b41f6f6006",
   "metadata": {},
   "source": [
    "- **Overfitting**: capturing spurious patterns that won't recur in the future, leading to less accurate predictions, or\n",
    "- **Underfitting**: failing to capture relevant patterns, again leading to less accurate predictions."
   ]
  },
  {
   "cell_type": "markdown",
   "id": "e33c8434-5779-4b76-83f1-dca686e5a771",
   "metadata": {},
   "source": [
    "We use **validation** data, which isn't used in model training, to measure a candidate model's accuracy.   \n",
    "This lets us try many candidate models and keep the best one."
   ]
  },
  {
   "cell_type": "code",
   "execution_count": null,
   "id": "9970f88d-0243-4496-81b8-7257990e3a9c",
   "metadata": {},
   "outputs": [],
   "source": []
  }
 ],
 "metadata": {
  "kernelspec": {
   "display_name": "Python 3 (ipykernel)",
   "language": "python",
   "name": "python3"
  },
  "language_info": {
   "codemirror_mode": {
    "name": "ipython",
    "version": 3
   },
   "file_extension": ".py",
   "mimetype": "text/x-python",
   "name": "python",
   "nbconvert_exporter": "python",
   "pygments_lexer": "ipython3",
   "version": "3.10.13"
  }
 },
 "nbformat": 4,
 "nbformat_minor": 5
}
